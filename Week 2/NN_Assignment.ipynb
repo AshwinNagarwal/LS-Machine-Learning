{
  "metadata": {
    "kernelspec": {
      "display_name": "Python 3",
      "name": "python3"
    },
    "language_info": {
      "name": "python",
      "version": "3.10.13",
      "mimetype": "text/x-python",
      "codemirror_mode": {
        "name": "ipython",
        "version": 3
      },
      "pygments_lexer": "ipython3",
      "nbconvert_exporter": "python",
      "file_extension": ".py"
    },
    "kaggle": {
      "accelerator": "gpu",
      "dataSources": [
        {
          "sourceId": 8933413,
          "sourceType": "datasetVersion",
          "datasetId": 5374411
        }
      ],
      "dockerImageVersionId": 30747,
      "isInternetEnabled": true,
      "language": "python",
      "sourceType": "notebook",
      "isGpuEnabled": true
    },
    "colab": {
      "provenance": [],
      "gpuType": "T4"
    },
    "accelerator": "GPU"
  },
  "nbformat_minor": 0,
  "nbformat": 4,
  "cells": [
    {
      "cell_type": "markdown",
      "source": [
        "**RUN THIS CODE TO UNIZP THE REQUIRED FILES**"
      ],
      "metadata": {
        "id": "cEl-4aFCkdsB"
      }
    },
    {
      "cell_type": "code",
      "source": [
        "!unzip /content/homer_bart.zip -d /content/homerbart/"
      ],
      "metadata": {
        "id": "mCdV1dV8kawl",
        "colab": {
          "base_uri": "https://localhost:8080/"
        },
        "outputId": "763c83f3-b3da-44fc-e9ef-7bc822deb114"
      },
      "execution_count": null,
      "outputs": [
        {
          "output_type": "stream",
          "name": "stdout",
          "text": [
            "Archive:  /content/homer_bart.zip\n",
            "   creating: /content/homerbart/Bart/\n",
            "  inflating: /content/homerbart/Bart/bart58.bmp  \n",
            "  inflating: /content/homerbart/Bart/bart70.bmp  \n",
            "  inflating: /content/homerbart/Bart/bart64.bmp  \n",
            "  inflating: /content/homerbart/Bart/bart162.bmp  \n",
            "  inflating: /content/homerbart/Bart/bart65.bmp  \n",
            "  inflating: /content/homerbart/Bart/bart71.bmp  \n",
            "  inflating: /content/homerbart/Bart/bart59.bmp  \n",
            "  inflating: /content/homerbart/Bart/bart67.bmp  \n",
            "  inflating: /content/homerbart/Bart/bart73.bmp  \n",
            "  inflating: /content/homerbart/Bart/bart98.bmp  \n",
            "  inflating: /content/homerbart/Bart/bart161.bmp  \n",
            "  inflating: /content/homerbart/Bart/bart149.bmp  \n",
            "  inflating: /content/homerbart/Bart/bart148.bmp  \n",
            "  inflating: /content/homerbart/Bart/bart160.bmp  \n",
            "  inflating: /content/homerbart/Bart/bart99.bmp  \n",
            "  inflating: /content/homerbart/Bart/bart72.bmp  \n",
            "  inflating: /content/homerbart/Bart/bart66.bmp  \n",
            "  inflating: /content/homerbart/Bart/bart62.bmp  \n",
            "  inflating: /content/homerbart/Bart/bart76.bmp  \n",
            "  inflating: /content/homerbart/Bart/bart89.bmp  \n",
            "  inflating: /content/homerbart/Bart/bart158.bmp  \n",
            "  inflating: /content/homerbart/Bart/bart164.bmp  \n",
            "  inflating: /content/homerbart/Bart/bart165.bmp  \n",
            "  inflating: /content/homerbart/Bart/bart159.bmp  \n",
            "  inflating: /content/homerbart/Bart/bart77.bmp  \n",
            "  inflating: /content/homerbart/Bart/bart63.bmp  \n",
            "  inflating: /content/homerbart/Bart/bart75.bmp  \n",
            "  inflating: /content/homerbart/Bart/bart61.bmp  \n",
            "  inflating: /content/homerbart/Bart/bart49.bmp  \n",
            "  inflating: /content/homerbart/Bart/bart167.bmp  \n",
            "  inflating: /content/homerbart/Bart/bart166.bmp  \n",
            "  inflating: /content/homerbart/Bart/bart48.bmp  \n",
            "  inflating: /content/homerbart/Bart/bart60.bmp  \n",
            "  inflating: /content/homerbart/Bart/bart74.bmp  \n",
            "  inflating: /content/homerbart/Bart/bart13.bmp  \n",
            "  inflating: /content/homerbart/Bart/bart115.bmp  \n",
            "  inflating: /content/homerbart/Bart/bart101.bmp  \n",
            "  inflating: /content/homerbart/Bart/bart128.bmp  \n",
            "  inflating: /content/homerbart/Bart/bart100.bmp  \n",
            "  inflating: /content/homerbart/Bart/bart114.bmp  \n",
            "  inflating: /content/homerbart/Bart/bart12.bmp  \n",
            "  inflating: /content/homerbart/Bart/bart38.bmp  \n",
            "  inflating: /content/homerbart/Bart/bart10.bmp  \n",
            "  inflating: /content/homerbart/Bart/bart102.bmp  \n",
            "  inflating: /content/homerbart/Bart/bart116.bmp  \n",
            "  inflating: /content/homerbart/Bart/bart117.bmp  \n",
            "  inflating: /content/homerbart/Bart/bart103.bmp  \n",
            "  inflating: /content/homerbart/Bart/bart11.bmp  \n",
            "  inflating: /content/homerbart/Bart/bart39.bmp  \n",
            "  inflating: /content/homerbart/Bart/bart15.bmp  \n",
            "  inflating: /content/homerbart/Bart/bart29.bmp  \n",
            "  inflating: /content/homerbart/Bart/bart9.bmp  \n",
            "  inflating: /content/homerbart/Bart/bart113.bmp  \n",
            "  inflating: /content/homerbart/Bart/bart112.bmp  \n",
            "  inflating: /content/homerbart/Bart/bart106.bmp  \n",
            "  inflating: /content/homerbart/Bart/bart8.bmp  \n",
            "  inflating: /content/homerbart/Bart/bart28.bmp  \n",
            "  inflating: /content/homerbart/Bart/bart14.bmp  \n",
            "  inflating: /content/homerbart/Bart/bart16.bmp  \n",
            "  inflating: /content/homerbart/Bart/bart138.bmp  \n",
            "  inflating: /content/homerbart/Bart/bart110.bmp  \n",
            "  inflating: /content/homerbart/Bart/bart104.bmp  \n",
            "  inflating: /content/homerbart/Bart/bart105.bmp  \n",
            "  inflating: /content/homerbart/Bart/bart111.bmp  \n",
            "  inflating: /content/homerbart/Bart/bart139.bmp  \n",
            "  inflating: /content/homerbart/Bart/bart17.bmp  \n",
            "  inflating: /content/homerbart/Bart/bart32.bmp  \n",
            "  inflating: /content/homerbart/Bart/bart26.bmp  \n",
            "  inflating: /content/homerbart/Bart/bart6.bmp  \n",
            "  inflating: /content/homerbart/Bart/bart134.bmp  \n",
            "  inflating: /content/homerbart/Bart/bart120.bmp  \n",
            "  inflating: /content/homerbart/Bart/bart108.bmp  \n",
            "  inflating: /content/homerbart/Bart/bart109.bmp  \n",
            "  inflating: /content/homerbart/Bart/bart121.bmp  \n",
            "  inflating: /content/homerbart/Bart/bart135.bmp  \n",
            "  inflating: /content/homerbart/Bart/bart7.bmp  \n",
            "  inflating: /content/homerbart/Bart/bart27.bmp  \n",
            "  inflating: /content/homerbart/Bart/bart19.bmp  \n",
            "  inflating: /content/homerbart/Bart/bart25.bmp  \n",
            "  inflating: /content/homerbart/Bart/bart31.bmp  \n",
            "  inflating: /content/homerbart/Bart/bart5.bmp  \n",
            "  inflating: /content/homerbart/Bart/bart123.bmp  \n",
            "  inflating: /content/homerbart/Bart/bart137.bmp  \n",
            "  inflating: /content/homerbart/Bart/bart136.bmp  \n",
            "  inflating: /content/homerbart/Bart/bart122.bmp  \n",
            "  inflating: /content/homerbart/Bart/bart4.bmp  \n",
            "  inflating: /content/homerbart/Bart/bart30.bmp  \n",
            "  inflating: /content/homerbart/Bart/bart24.bmp  \n",
            "  inflating: /content/homerbart/Bart/bart18.bmp  \n",
            "  inflating: /content/homerbart/Bart/bart20.bmp  \n",
            "  inflating: /content/homerbart/Bart/bart34.bmp  \n",
            "  inflating: /content/homerbart/Bart/bart126.bmp  \n",
            "  inflating: /content/homerbart/Bart/bart132.bmp  \n",
            "  inflating: /content/homerbart/Bart/bart133.bmp  \n",
            "  inflating: /content/homerbart/Bart/bart127.bmp  \n",
            "  inflating: /content/homerbart/Bart/bart1.bmp  \n",
            "  inflating: /content/homerbart/Bart/bart35.bmp  \n",
            "  inflating: /content/homerbart/Bart/bart21.bmp  \n",
            "  inflating: /content/homerbart/Bart/bart37.bmp  \n",
            "  inflating: /content/homerbart/Bart/bart23.bmp  \n",
            "  inflating: /content/homerbart/Bart/bart3.bmp  \n",
            "  inflating: /content/homerbart/Bart/bart119.bmp  \n",
            "  inflating: /content/homerbart/Bart/bart131.bmp  \n",
            "  inflating: /content/homerbart/Bart/bart125.bmp  \n",
            "  inflating: /content/homerbart/Bart/bart124.bmp  \n",
            "  inflating: /content/homerbart/Bart/bart130.bmp  \n",
            "  inflating: /content/homerbart/Bart/bart118.bmp  \n",
            "  inflating: /content/homerbart/Bart/bart2.bmp  \n",
            "  inflating: /content/homerbart/Bart/bart22.bmp  \n",
            "  inflating: /content/homerbart/Bart/bart36.bmp  \n",
            "  inflating: /content/homerbart/Bart/bart79.bmp  \n",
            "  inflating: /content/homerbart/Bart/bart51.bmp  \n",
            "  inflating: /content/homerbart/Bart/bart45.bmp  \n",
            "  inflating: /content/homerbart/Bart/bart92.bmp  \n",
            "  inflating: /content/homerbart/Bart/bart86.bmp  \n",
            "  inflating: /content/homerbart/Bart/bart157.bmp  \n",
            "  inflating: /content/homerbart/Bart/bart143.bmp  \n",
            "  inflating: /content/homerbart/Bart/bart142.bmp  \n",
            "  inflating: /content/homerbart/Bart/bart156.bmp  \n",
            "  inflating: /content/homerbart/Bart/bart87.bmp  \n",
            "  inflating: /content/homerbart/Bart/bart93.bmp  \n",
            "  inflating: /content/homerbart/Bart/bart44.bmp  \n",
            "  inflating: /content/homerbart/Bart/bart50.bmp  \n",
            "  inflating: /content/homerbart/Bart/bart46.bmp  \n",
            "  inflating: /content/homerbart/Bart/bart52.bmp  \n",
            "  inflating: /content/homerbart/Bart/bart85.bmp  \n",
            "  inflating: /content/homerbart/Bart/bart91.bmp  \n",
            "  inflating: /content/homerbart/Bart/bart154.bmp  \n",
            "  inflating: /content/homerbart/Bart/bart168.bmp  \n",
            "  inflating: /content/homerbart/Bart/bart169.bmp  \n",
            "  inflating: /content/homerbart/Bart/bart155.bmp  \n",
            "  inflating: /content/homerbart/Bart/bart141.bmp  \n",
            "  inflating: /content/homerbart/Bart/bart90.bmp  \n",
            "  inflating: /content/homerbart/Bart/bart84.bmp  \n",
            "  inflating: /content/homerbart/Bart/bart53.bmp  \n",
            "  inflating: /content/homerbart/Bart/bart47.bmp  \n",
            "  inflating: /content/homerbart/Bart/bart43.bmp  \n",
            "  inflating: /content/homerbart/Bart/bart57.bmp  \n",
            "  inflating: /content/homerbart/Bart/bart80.bmp  \n",
            "  inflating: /content/homerbart/Bart/bart94.bmp  \n",
            "  inflating: /content/homerbart/Bart/bart145.bmp  \n",
            "  inflating: /content/homerbart/Bart/bart151.bmp  \n",
            "  inflating: /content/homerbart/Bart/bart150.bmp  \n",
            "  inflating: /content/homerbart/Bart/bart144.bmp  \n",
            "  inflating: /content/homerbart/Bart/bart95.bmp  \n",
            "  inflating: /content/homerbart/Bart/bart81.bmp  \n",
            "  inflating: /content/homerbart/Bart/bart56.bmp  \n",
            "  inflating: /content/homerbart/Bart/bart42.bmp  \n",
            "  inflating: /content/homerbart/Bart/bart54.bmp  \n",
            "  inflating: /content/homerbart/Bart/bart40.bmp  \n",
            "  inflating: /content/homerbart/Bart/bart68.bmp  \n",
            "  inflating: /content/homerbart/Bart/bart97.bmp  \n",
            "  inflating: /content/homerbart/Bart/bart83.bmp  \n",
            "  inflating: /content/homerbart/Bart/bart146.bmp  \n",
            "  inflating: /content/homerbart/Bart/bart147.bmp  \n",
            "  inflating: /content/homerbart/Bart/bart153.bmp  \n",
            "  inflating: /content/homerbart/Bart/bart82.bmp  \n",
            "  inflating: /content/homerbart/Bart/bart96.bmp  \n",
            "  inflating: /content/homerbart/Bart/bart69.bmp  \n",
            "  inflating: /content/homerbart/Bart/bart55.bmp  \n",
            "   creating: /content/homerbart/Homer/\n",
            "  inflating: /content/homerbart/Homer/homer38.bmp  \n",
            "  inflating: /content/homerbart/Homer/homer10.bmp  \n",
            "  inflating: /content/homerbart/Homer/homer119.bmp  \n",
            "  inflating: /content/homerbart/Homer/homer124.bmp  \n",
            "  inflating: /content/homerbart/Homer/homer13.bmp  \n",
            "  inflating: /content/homerbart/Homer/homer16.bmp  \n",
            "  inflating: /content/homerbart/Homer/homer123.bmp  \n",
            "  inflating: /content/homerbart/Homer/homer122.bmp  \n",
            "  inflating: /content/homerbart/Homer/homer17.bmp  \n",
            "  inflating: /content/homerbart/Homer/homer15.bmp  \n",
            "  inflating: /content/homerbart/Homer/homer29.bmp  \n",
            "  inflating: /content/homerbart/Homer/homer120.bmp  \n",
            "  inflating: /content/homerbart/Homer/homer8.bmp  \n",
            "  inflating: /content/homerbart/Homer/homer9.bmp  \n",
            "  inflating: /content/homerbart/Homer/homer109.bmp  \n",
            "  inflating: /content/homerbart/Homer/homer121.bmp  \n",
            "  inflating: /content/homerbart/Homer/homer28.bmp  \n",
            "  inflating: /content/homerbart/Homer/homer14.bmp  \n",
            "  inflating: /content/homerbart/Homer/homer73.bmp  \n",
            "  inflating: /content/homerbart/Homer/homer98.bmp  \n",
            "  inflating: /content/homerbart/Homer/homer99.bmp  \n",
            "  inflating: /content/homerbart/Homer/homer72.bmp  \n",
            "  inflating: /content/homerbart/Homer/homer66.bmp  \n",
            "  inflating: /content/homerbart/Homer/homer58.bmp  \n",
            "  inflating: /content/homerbart/Homer/homer70.bmp  \n",
            "  inflating: /content/homerbart/Homer/homer65.bmp  \n",
            "  inflating: /content/homerbart/Homer/homer71.bmp  \n",
            "  inflating: /content/homerbart/Homer/homer59.bmp  \n",
            "  inflating: /content/homerbart/Homer/homer75.bmp  \n",
            "  inflating: /content/homerbart/Homer/homer61.bmp  \n",
            "  inflating: /content/homerbart/Homer/homer49.bmp  \n",
            "  inflating: /content/homerbart/Homer/homer48.bmp  \n",
            "  inflating: /content/homerbart/Homer/homer60.bmp  \n",
            "  inflating: /content/homerbart/Homer/homer74.bmp  \n",
            "  inflating: /content/homerbart/Homer/homer62.bmp  \n",
            "  inflating: /content/homerbart/Homer/homer76.bmp  \n",
            "  inflating: /content/homerbart/Homer/homer77.bmp  \n",
            "  inflating: /content/homerbart/Homer/homer63.bmp  \n",
            "  inflating: /content/homerbart/Homer/homer46.bmp  \n",
            "  inflating: /content/homerbart/Homer/homer52.bmp  \n",
            "  inflating: /content/homerbart/Homer/homer85.bmp  \n",
            "  inflating: /content/homerbart/Homer/homer91.bmp  \n",
            "  inflating: /content/homerbart/Homer/homer90.bmp  \n",
            "  inflating: /content/homerbart/Homer/homer84.bmp  \n",
            "  inflating: /content/homerbart/Homer/homer47.bmp  \n",
            "  inflating: /content/homerbart/Homer/homer79.bmp  \n",
            "  inflating: /content/homerbart/Homer/homer51.bmp  \n",
            "  inflating: /content/homerbart/Homer/homer45.bmp  \n",
            "  inflating: /content/homerbart/Homer/homer92.bmp  \n",
            "  inflating: /content/homerbart/Homer/homer86.bmp  \n",
            "  inflating: /content/homerbart/Homer/homer87.bmp  \n",
            "  inflating: /content/homerbart/Homer/homer93.bmp  \n",
            "  inflating: /content/homerbart/Homer/homer44.bmp  \n",
            "  inflating: /content/homerbart/Homer/homer50.bmp  \n",
            "  inflating: /content/homerbart/Homer/homer78.bmp  \n",
            "  inflating: /content/homerbart/Homer/homer54.bmp  \n",
            "  inflating: /content/homerbart/Homer/homer40.bmp  \n",
            "  inflating: /content/homerbart/Homer/homer68.bmp  \n",
            "  inflating: /content/homerbart/Homer/homer97.bmp  \n",
            "  inflating: /content/homerbart/Homer/homer83.bmp  \n",
            "  inflating: /content/homerbart/Homer/homer82.bmp  \n",
            "  inflating: /content/homerbart/Homer/homer96.bmp  \n",
            "  inflating: /content/homerbart/Homer/homer69.bmp  \n",
            "  inflating: /content/homerbart/Homer/homer41.bmp  \n",
            "  inflating: /content/homerbart/Homer/homer55.bmp  \n",
            "  inflating: /content/homerbart/Homer/homer43.bmp  \n",
            "  inflating: /content/homerbart/Homer/homer57.bmp  \n",
            "  inflating: /content/homerbart/Homer/homer80.bmp  \n",
            "  inflating: /content/homerbart/Homer/homer94.bmp  \n",
            "  inflating: /content/homerbart/Homer/homer95.bmp  \n",
            "  inflating: /content/homerbart/Homer/homer81.bmp  \n",
            "  inflating: /content/homerbart/Homer/homer56.bmp  \n",
            "  inflating: /content/homerbart/Homer/homer31.bmp  \n",
            "  inflating: /content/homerbart/Homer/homer104.bmp  \n",
            "  inflating: /content/homerbart/Homer/homer110.bmp  \n",
            "  inflating: /content/homerbart/Homer/homer4.bmp  \n",
            "  inflating: /content/homerbart/Homer/homer5.bmp  \n",
            "  inflating: /content/homerbart/Homer/homer105.bmp  \n",
            "  inflating: /content/homerbart/Homer/homer30.bmp  \n",
            "  inflating: /content/homerbart/Homer/homer24.bmp  \n",
            "  inflating: /content/homerbart/Homer/homer18.bmp  \n",
            "  inflating: /content/homerbart/Homer/homer32.bmp  \n",
            "  inflating: /content/homerbart/Homer/homer26.bmp  \n",
            "  inflating: /content/homerbart/Homer/homer113.bmp  \n",
            "  inflating: /content/homerbart/Homer/homer107.bmp  \n",
            "  inflating: /content/homerbart/Homer/homer7.bmp  \n",
            "  inflating: /content/homerbart/Homer/homer6.bmp  \n",
            "  inflating: /content/homerbart/Homer/homer106.bmp  \n",
            "  inflating: /content/homerbart/Homer/homer112.bmp  \n",
            "  inflating: /content/homerbart/Homer/homer27.bmp  \n",
            "  inflating: /content/homerbart/Homer/homer33.bmp  \n",
            "  inflating: /content/homerbart/Homer/homer37.bmp  \n",
            "  inflating: /content/homerbart/Homer/homer23.bmp  \n",
            "  inflating: /content/homerbart/Homer/homer116.bmp  \n",
            "  inflating: /content/homerbart/Homer/homer102.bmp  \n",
            "  inflating: /content/homerbart/Homer/homer2.bmp  \n",
            "  inflating: /content/homerbart/Homer/homer3.bmp  \n",
            "  inflating: /content/homerbart/Homer/homer103.bmp  \n",
            "  inflating: /content/homerbart/Homer/homer117.bmp  \n",
            "  inflating: /content/homerbart/Homer/homer22.bmp  \n",
            "  inflating: /content/homerbart/Homer/homer36.bmp  \n",
            "  inflating: /content/homerbart/Homer/homer20.bmp  \n",
            "  inflating: /content/homerbart/Homer/homer34.bmp  \n",
            "  inflating: /content/homerbart/Homer/homer101.bmp  \n",
            "  inflating: /content/homerbart/Homer/homer115.bmp  \n",
            "  inflating: /content/homerbart/Homer/homer1.bmp  \n",
            "  inflating: /content/homerbart/Homer/homer100.bmp  \n",
            "  inflating: /content/homerbart/Homer/homer35.bmp  \n",
            "  inflating: /content/homerbart/Homer/homer21.bmp  \n"
          ]
        }
      ]
    },
    {
      "cell_type": "code",
      "source": [
        "import tensorflow as tf\n",
        "from tensorflow import keras\n",
        "from tensorflow.keras import layers\n",
        "from tensorflow.keras.preprocessing.image import ImageDataGenerator"
      ],
      "metadata": {
        "execution": {
          "iopub.status.busy": "2024-07-12T06:51:13.15166Z",
          "iopub.execute_input": "2024-07-12T06:51:13.151997Z",
          "iopub.status.idle": "2024-07-12T06:51:16.800765Z",
          "shell.execute_reply.started": "2024-07-12T06:51:13.151972Z",
          "shell.execute_reply": "2024-07-12T06:51:16.799921Z"
        },
        "trusted": true,
        "id": "LN1cPGMAuhaQ"
      },
      "execution_count": null,
      "outputs": []
    },
    {
      "cell_type": "code",
      "source": [
        "img_height=64\n",
        "img_width=64\n",
        "batch_size=32"
      ],
      "metadata": {
        "execution": {
          "iopub.status.busy": "2024-07-12T06:51:16.802367Z",
          "iopub.execute_input": "2024-07-12T06:51:16.802852Z",
          "iopub.status.idle": "2024-07-12T06:51:16.809181Z",
          "shell.execute_reply.started": "2024-07-12T06:51:16.802826Z",
          "shell.execute_reply": "2024-07-12T06:51:16.808147Z"
        },
        "trusted": true,
        "id": "UltB9PQwuhaS"
      },
      "execution_count": null,
      "outputs": []
    },
    {
      "cell_type": "code",
      "source": [
        "model=keras.Sequential(\n",
        "    [\n",
        "        layers.Input((64,64,3)),\n",
        "        layers.Flatten(),\n",
        "        layers.Dense(2048, activation='relu'),\n",
        "        layers.Dense(1024, activation='relu'),\n",
        "        layers.Dense(256, activation='relu'),\n",
        "        layers.Dense(1, activation='sigmoid'),\n",
        "\n",
        "    ]\n",
        ")"
      ],
      "metadata": {
        "execution": {
          "iopub.status.busy": "2024-07-12T06:51:16.810379Z",
          "iopub.execute_input": "2024-07-12T06:51:16.810654Z",
          "iopub.status.idle": "2024-07-12T06:51:17.30761Z",
          "shell.execute_reply.started": "2024-07-12T06:51:16.81063Z",
          "shell.execute_reply": "2024-07-12T06:51:17.306834Z"
        },
        "trusted": true,
        "id": "AV2rOM6WuhaS"
      },
      "execution_count": null,
      "outputs": []
    },
    {
      "cell_type": "code",
      "source": [
        "ds_total=tf.keras.preprocessing.image_dataset_from_directory(\n",
        "    '/content/homerbart/',\n",
        "#     labels='inferred',\n",
        "    label_mode='binary',\n",
        "    color_mode='rgb',\n",
        "    batch_size=batch_size,\n",
        "    image_size=(img_height,img_width), #reshape if not in this size\n",
        "    shuffle=True,\n",
        "    seed=123,\n",
        ")"
      ],
      "metadata": {
        "execution": {
          "iopub.status.busy": "2024-07-12T06:51:18.587219Z",
          "iopub.execute_input": "2024-07-12T06:51:18.587617Z",
          "iopub.status.idle": "2024-07-12T06:51:20.046286Z",
          "shell.execute_reply.started": "2024-07-12T06:51:18.587589Z",
          "shell.execute_reply": "2024-07-12T06:51:20.045467Z"
        },
        "trusted": true,
        "id": "k4RAuHh2uhaS",
        "outputId": "fa7cccc8-3609-40f8-bb41-65cfa40ff560",
        "colab": {
          "base_uri": "https://localhost:8080/"
        }
      },
      "execution_count": null,
      "outputs": [
        {
          "output_type": "stream",
          "name": "stdout",
          "text": [
            "Found 269 files belonging to 2 classes.\n"
          ]
        }
      ]
    },
    {
      "cell_type": "code",
      "source": [
        "class_names = ds_total.class_names\n",
        "print(class_names)"
      ],
      "metadata": {
        "execution": {
          "iopub.status.busy": "2024-07-12T06:51:20.04798Z",
          "iopub.execute_input": "2024-07-12T06:51:20.048297Z",
          "iopub.status.idle": "2024-07-12T06:51:20.053256Z",
          "shell.execute_reply.started": "2024-07-12T06:51:20.048269Z",
          "shell.execute_reply": "2024-07-12T06:51:20.052193Z"
        },
        "trusted": true,
        "id": "CzIt3G3yuhaT",
        "outputId": "7b91e7d5-1a66-4348-9a75-4eb932e0ca69",
        "colab": {
          "base_uri": "https://localhost:8080/"
        }
      },
      "execution_count": null,
      "outputs": [
        {
          "output_type": "stream",
          "name": "stdout",
          "text": [
            "['Bart', 'Homer']\n"
          ]
        }
      ]
    },
    {
      "cell_type": "code",
      "source": [
        "import matplotlib.pyplot as plt\n",
        "\n",
        "plt.figure(figsize=(10, 10))\n",
        "for images, labels in ds_total.take(1):\n",
        "  for i in range(9):\n",
        "    ax = plt.subplot(3, 3, i + 1)\n",
        "    plt.imshow(images[i].numpy().astype(\"uint8\"))\n",
        "    plt.title(class_names[int(labels[i])])\n",
        "    plt.axis(\"off\")"
      ],
      "metadata": {
        "execution": {
          "iopub.status.busy": "2024-07-12T06:51:20.054321Z",
          "iopub.execute_input": "2024-07-12T06:51:20.054569Z",
          "iopub.status.idle": "2024-07-12T06:51:20.98227Z",
          "shell.execute_reply.started": "2024-07-12T06:51:20.054548Z",
          "shell.execute_reply": "2024-07-12T06:51:20.981515Z"
        },
        "trusted": true,
        "id": "y8qPWoBVuhaT",
        "outputId": "f26881ba-0470-412b-a5d2-8d030fe79465",
        "colab": {
          "base_uri": "https://localhost:8080/",
          "height": 829
        }
      },
      "execution_count": null,
      "outputs": [
        {
          "output_type": "display_data",
          "data": {
            "text/plain": [
              "<Figure size 1000x1000 with 9 Axes>"
            ],
            "image/png": "[encoded data removed]"
          },
          "metadata": {}
        }
      ]
    },
    {
      "cell_type": "code",
      "source": [
        "# # Convert labels to the correct shape for BinaryCrossentropy\n",
        "# def process_labels(labels):\n",
        "#     return tf.expand_dims(tf.cast(labels, tf.float32), axis=-1)\n",
        "\n",
        "# ds_train = ds_train.map(lambda x, y: (x, process_labels(y)))"
      ],
      "metadata": {
        "execution": {
          "iopub.status.busy": "2024-07-12T06:51:22.81139Z",
          "iopub.execute_input": "2024-07-12T06:51:22.811765Z",
          "iopub.status.idle": "2024-07-12T06:51:22.81979Z",
          "shell.execute_reply.started": "2024-07-12T06:51:22.811735Z",
          "shell.execute_reply": "2024-07-12T06:51:22.818795Z"
        },
        "trusted": true,
        "id": "qp_shzT-uhaU"
      },
      "execution_count": null,
      "outputs": []
    },
    {
      "cell_type": "code",
      "source": [
        "normalization_layer = tf.keras.layers.Rescaling(1./255)\n",
        "\n",
        "normalized_ds = ds_total.map(lambda x, y: (normalization_layer(x), y))"
      ],
      "metadata": {
        "execution": {
          "iopub.status.busy": "2024-07-12T06:51:23.034996Z",
          "iopub.execute_input": "2024-07-12T06:51:23.035857Z",
          "iopub.status.idle": "2024-07-12T06:51:23.071562Z",
          "shell.execute_reply.started": "2024-07-12T06:51:23.035827Z",
          "shell.execute_reply": "2024-07-12T06:51:23.070792Z"
        },
        "trusted": true,
        "id": "Hl2JJK7FuhaV"
      },
      "execution_count": null,
      "outputs": []
    },
    {
      "cell_type": "code",
      "source": [
        "# total_batches = tf.data.experimental.cardinality(normalized_ds)\n",
        "# ds_test = normalized_ds.take(total_batches // 10)\n",
        "# ds_train = normalized_ds.skip(total_batches // 10)\n",
        "\n",
        "# Calculate the number of batches\n",
        "total_batches = tf.data.experimental.cardinality(normalized_ds).numpy()\n",
        "\n",
        "# Split the dataset into training and test sets\n",
        "test_batches = round(total_batches *0.1)\n",
        "train_batches = total_batches - test_batches\n",
        "\n",
        "ds_train = normalized_ds.skip(test_batches)\n",
        "ds_test = normalized_ds.take(test_batches)"
      ],
      "metadata": {
        "execution": {
          "iopub.status.busy": "2024-07-12T06:51:23.223594Z",
          "iopub.execute_input": "2024-07-12T06:51:23.224364Z",
          "iopub.status.idle": "2024-07-12T06:51:23.234544Z",
          "shell.execute_reply.started": "2024-07-12T06:51:23.224331Z",
          "shell.execute_reply": "2024-07-12T06:51:23.233637Z"
        },
        "trusted": true,
        "id": "47UMFRmiuhaV"
      },
      "execution_count": null,
      "outputs": []
    },
    {
      "cell_type": "code",
      "source": [
        "#training with normalization\n",
        "model.compile(\n",
        "    loss=keras.losses.BinaryCrossentropy(), #for passing output to sigmoid first\n",
        "    optimizer=keras.optimizers.Adam(learning_rate=3e-6),\n",
        "    metrics=['accuracy'],\n",
        ")\n",
        "\n",
        "model.fit(ds_train, epochs=30, verbose=2)\n",
        "# model.evaluate(x_test,y_test,batch_size=32,verbose=2)"
      ],
      "metadata": {
        "execution": {
          "iopub.status.busy": "2024-07-12T06:51:35.719257Z",
          "iopub.execute_input": "2024-07-12T06:51:35.720173Z",
          "iopub.status.idle": "2024-07-12T06:51:40.963534Z",
          "shell.execute_reply.started": "2024-07-12T06:51:35.720137Z",
          "shell.execute_reply": "2024-07-12T06:51:40.962649Z"
        },
        "trusted": true,
        "id": "zQv5A-EWuhaV",
        "outputId": "033d39c4-d40a-4852-9bf9-f21f10185dfd",
        "colab": {
          "base_uri": "https://localhost:8080/"
        }
      },
      "execution_count": null,
      "outputs": [
        {
          "output_type": "stream",
          "name": "stdout",
          "text": [
            "Epoch 1/30\n",
            "8/8 - 3s - loss: 0.6542 - accuracy: 0.5949 - 3s/epoch - 403ms/step\n",
            "Epoch 2/30\n",
            "8/8 - 0s - loss: 0.5924 - accuracy: 0.7511 - 441ms/epoch - 55ms/step\n",
            "Epoch 3/30\n",
            "8/8 - 0s - loss: 0.5643 - accuracy: 0.7215 - 403ms/epoch - 50ms/step\n",
            "Epoch 4/30\n",
            "8/8 - 0s - loss: 0.5256 - accuracy: 0.7679 - 296ms/epoch - 37ms/step\n",
            "Epoch 5/30\n",
            "8/8 - 0s - loss: 0.4971 - accuracy: 0.8059 - 266ms/epoch - 33ms/step\n",
            "Epoch 6/30\n",
            "8/8 - 0s - loss: 0.4686 - accuracy: 0.7679 - 257ms/epoch - 32ms/step\n",
            "Epoch 7/30\n",
            "8/8 - 0s - loss: 0.4602 - accuracy: 0.8692 - 250ms/epoch - 31ms/step\n",
            "Epoch 8/30\n",
            "8/8 - 0s - loss: 0.4328 - accuracy: 0.8565 - 258ms/epoch - 32ms/step\n",
            "Epoch 9/30\n",
            "8/8 - 0s - loss: 0.4249 - accuracy: 0.8692 - 252ms/epoch - 32ms/step\n",
            "Epoch 10/30\n",
            "8/8 - 0s - loss: 0.4092 - accuracy: 0.8608 - 245ms/epoch - 31ms/step\n",
            "Epoch 11/30\n",
            "8/8 - 0s - loss: 0.3990 - accuracy: 0.8692 - 252ms/epoch - 31ms/step\n",
            "Epoch 12/30\n",
            "8/8 - 0s - loss: 0.3984 - accuracy: 0.8734 - 262ms/epoch - 33ms/step\n",
            "Epoch 13/30\n",
            "8/8 - 0s - loss: 0.3669 - accuracy: 0.8734 - 261ms/epoch - 33ms/step\n",
            "Epoch 14/30\n",
            "8/8 - 0s - loss: 0.3741 - accuracy: 0.8861 - 246ms/epoch - 31ms/step\n",
            "Epoch 15/30\n",
            "8/8 - 0s - loss: 0.3622 - accuracy: 0.8650 - 256ms/epoch - 32ms/step\n",
            "Epoch 16/30\n",
            "8/8 - 0s - loss: 0.3411 - accuracy: 0.9030 - 261ms/epoch - 33ms/step\n",
            "Epoch 17/30\n",
            "8/8 - 0s - loss: 0.3361 - accuracy: 0.8734 - 263ms/epoch - 33ms/step\n",
            "Epoch 18/30\n",
            "8/8 - 0s - loss: 0.3382 - accuracy: 0.9072 - 249ms/epoch - 31ms/step\n",
            "Epoch 19/30\n",
            "8/8 - 0s - loss: 0.3156 - accuracy: 0.9072 - 247ms/epoch - 31ms/step\n",
            "Epoch 20/30\n",
            "8/8 - 0s - loss: 0.3127 - accuracy: 0.9241 - 249ms/epoch - 31ms/step\n",
            "Epoch 21/30\n",
            "8/8 - 0s - loss: 0.3100 - accuracy: 0.9114 - 243ms/epoch - 30ms/step\n",
            "Epoch 22/30\n",
            "8/8 - 0s - loss: 0.3062 - accuracy: 0.9241 - 254ms/epoch - 32ms/step\n",
            "Epoch 23/30\n",
            "8/8 - 0s - loss: 0.3061 - accuracy: 0.9030 - 247ms/epoch - 31ms/step\n",
            "Epoch 24/30\n",
            "8/8 - 0s - loss: 0.2883 - accuracy: 0.9409 - 261ms/epoch - 33ms/step\n",
            "Epoch 25/30\n",
            "8/8 - 0s - loss: 0.2852 - accuracy: 0.9072 - 257ms/epoch - 32ms/step\n",
            "Epoch 26/30\n",
            "8/8 - 0s - loss: 0.2732 - accuracy: 0.9283 - 256ms/epoch - 32ms/step\n",
            "Epoch 27/30\n",
            "8/8 - 0s - loss: 0.2693 - accuracy: 0.9578 - 259ms/epoch - 32ms/step\n",
            "Epoch 28/30\n",
            "8/8 - 0s - loss: 0.2720 - accuracy: 0.9114 - 249ms/epoch - 31ms/step\n",
            "Epoch 29/30\n",
            "8/8 - 0s - loss: 0.2571 - accuracy: 0.9662 - 254ms/epoch - 32ms/step\n",
            "Epoch 30/30\n",
            "8/8 - 0s - loss: 0.2576 - accuracy: 0.9451 - 268ms/epoch - 34ms/step\n"
          ]
        },
        {
          "output_type": "execute_result",
          "data": {
            "text/plain": [
              "<keras.src.callbacks.History at 0x7de81c097af0>"
            ]
          },
          "metadata": {},
          "execution_count": 11
        }
      ]
    },
    {
      "cell_type": "code",
      "source": [
        "model.evaluate(ds_test,batch_size=32,verbose=2)"
      ],
      "metadata": {
        "execution": {
          "iopub.status.busy": "2024-07-12T06:51:40.964937Z",
          "iopub.execute_input": "2024-07-12T06:51:40.965243Z",
          "iopub.status.idle": "2024-07-12T06:51:41.364506Z",
          "shell.execute_reply.started": "2024-07-12T06:51:40.965218Z",
          "shell.execute_reply": "2024-07-12T06:51:41.363563Z"
        },
        "trusted": true,
        "id": "OwqXjUx_uhaW",
        "outputId": "5d64d4cf-8e67-49b9-bd84-233ff7dafb79",
        "colab": {
          "base_uri": "https://localhost:8080/"
        }
      },
      "execution_count": null,
      "outputs": [
        {
          "output_type": "stream",
          "name": "stdout",
          "text": [
            "1/1 - 0s - loss: 0.2476 - accuracy: 1.0000 - 325ms/epoch - 325ms/step\n"
          ]
        },
        {
          "output_type": "execute_result",
          "data": {
            "text/plain": [
              "[0.24761782586574554, 1.0]"
            ]
          },
          "metadata": {},
          "execution_count": 12
        }
      ]
    }
  ]
}